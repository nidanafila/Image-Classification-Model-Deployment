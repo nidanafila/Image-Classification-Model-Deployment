{
  "nbformat": 4,
  "nbformat_minor": 0,
  "metadata": {
    "colab": {
      "provenance": [],
      "gpuType": "T4",
      "authorship_tag": "ABX9TyPR6k+eUORZZWkLdwXX/EaQ",
      "include_colab_link": true
    },
    "kernelspec": {
      "name": "python3",
      "display_name": "Python 3"
    },
    "language_info": {
      "name": "python"
    },
    "accelerator": "GPU"
  },
  "cells": [
    {
      "cell_type": "markdown",
      "metadata": {
        "id": "view-in-github",
        "colab_type": "text"
      },
      "source": [
        "<a href=\"https://colab.research.google.com/github/nidanafila/Image-Classification-Model-Deployment/blob/main/Image_Classification_Model_Deployment.ipynb\" target=\"_parent\"><img src=\"https://colab.research.google.com/assets/colab-badge.svg\" alt=\"Open In Colab\"/></a>"
      ]
    },
    {
      "cell_type": "markdown",
      "source": [
        "Nama : Nida Nafila\n",
        "\n",
        "E-mail : naifanida5858@gmail.com"
      ],
      "metadata": {
        "id": "dHM9t_wge-uX"
      }
    },
    {
      "cell_type": "code",
      "execution_count": 1,
      "metadata": {
        "colab": {
          "base_uri": "https://localhost:8080/",
          "height": 160
        },
        "id": "Ncsx2-x3e69_",
        "outputId": "63fe84d3-bb43-45a9-e351-e3f02d393319"
      },
      "outputs": [
        {
          "output_type": "display_data",
          "data": {
            "text/plain": [
              "<IPython.core.display.HTML object>"
            ],
            "text/html": [
              "\n",
              "     <input type=\"file\" id=\"files-ba1a937b-0db5-4bd3-9456-237e8e5e8577\" name=\"files[]\" multiple disabled\n",
              "        style=\"border:none\" />\n",
              "     <output id=\"result-ba1a937b-0db5-4bd3-9456-237e8e5e8577\">\n",
              "      Upload widget is only available when the cell has been executed in the\n",
              "      current browser session. Please rerun this cell to enable.\n",
              "      </output>\n",
              "      <script>// Copyright 2017 Google LLC\n",
              "//\n",
              "// Licensed under the Apache License, Version 2.0 (the \"License\");\n",
              "// you may not use this file except in compliance with the License.\n",
              "// You may obtain a copy of the License at\n",
              "//\n",
              "//      http://www.apache.org/licenses/LICENSE-2.0\n",
              "//\n",
              "// Unless required by applicable law or agreed to in writing, software\n",
              "// distributed under the License is distributed on an \"AS IS\" BASIS,\n",
              "// WITHOUT WARRANTIES OR CONDITIONS OF ANY KIND, either express or implied.\n",
              "// See the License for the specific language governing permissions and\n",
              "// limitations under the License.\n",
              "\n",
              "/**\n",
              " * @fileoverview Helpers for google.colab Python module.\n",
              " */\n",
              "(function(scope) {\n",
              "function span(text, styleAttributes = {}) {\n",
              "  const element = document.createElement('span');\n",
              "  element.textContent = text;\n",
              "  for (const key of Object.keys(styleAttributes)) {\n",
              "    element.style[key] = styleAttributes[key];\n",
              "  }\n",
              "  return element;\n",
              "}\n",
              "\n",
              "// Max number of bytes which will be uploaded at a time.\n",
              "const MAX_PAYLOAD_SIZE = 100 * 1024;\n",
              "\n",
              "function _uploadFiles(inputId, outputId) {\n",
              "  const steps = uploadFilesStep(inputId, outputId);\n",
              "  const outputElement = document.getElementById(outputId);\n",
              "  // Cache steps on the outputElement to make it available for the next call\n",
              "  // to uploadFilesContinue from Python.\n",
              "  outputElement.steps = steps;\n",
              "\n",
              "  return _uploadFilesContinue(outputId);\n",
              "}\n",
              "\n",
              "// This is roughly an async generator (not supported in the browser yet),\n",
              "// where there are multiple asynchronous steps and the Python side is going\n",
              "// to poll for completion of each step.\n",
              "// This uses a Promise to block the python side on completion of each step,\n",
              "// then passes the result of the previous step as the input to the next step.\n",
              "function _uploadFilesContinue(outputId) {\n",
              "  const outputElement = document.getElementById(outputId);\n",
              "  const steps = outputElement.steps;\n",
              "\n",
              "  const next = steps.next(outputElement.lastPromiseValue);\n",
              "  return Promise.resolve(next.value.promise).then((value) => {\n",
              "    // Cache the last promise value to make it available to the next\n",
              "    // step of the generator.\n",
              "    outputElement.lastPromiseValue = value;\n",
              "    return next.value.response;\n",
              "  });\n",
              "}\n",
              "\n",
              "/**\n",
              " * Generator function which is called between each async step of the upload\n",
              " * process.\n",
              " * @param {string} inputId Element ID of the input file picker element.\n",
              " * @param {string} outputId Element ID of the output display.\n",
              " * @return {!Iterable<!Object>} Iterable of next steps.\n",
              " */\n",
              "function* uploadFilesStep(inputId, outputId) {\n",
              "  const inputElement = document.getElementById(inputId);\n",
              "  inputElement.disabled = false;\n",
              "\n",
              "  const outputElement = document.getElementById(outputId);\n",
              "  outputElement.innerHTML = '';\n",
              "\n",
              "  const pickedPromise = new Promise((resolve) => {\n",
              "    inputElement.addEventListener('change', (e) => {\n",
              "      resolve(e.target.files);\n",
              "    });\n",
              "  });\n",
              "\n",
              "  const cancel = document.createElement('button');\n",
              "  inputElement.parentElement.appendChild(cancel);\n",
              "  cancel.textContent = 'Cancel upload';\n",
              "  const cancelPromise = new Promise((resolve) => {\n",
              "    cancel.onclick = () => {\n",
              "      resolve(null);\n",
              "    };\n",
              "  });\n",
              "\n",
              "  // Wait for the user to pick the files.\n",
              "  const files = yield {\n",
              "    promise: Promise.race([pickedPromise, cancelPromise]),\n",
              "    response: {\n",
              "      action: 'starting',\n",
              "    }\n",
              "  };\n",
              "\n",
              "  cancel.remove();\n",
              "\n",
              "  // Disable the input element since further picks are not allowed.\n",
              "  inputElement.disabled = true;\n",
              "\n",
              "  if (!files) {\n",
              "    return {\n",
              "      response: {\n",
              "        action: 'complete',\n",
              "      }\n",
              "    };\n",
              "  }\n",
              "\n",
              "  for (const file of files) {\n",
              "    const li = document.createElement('li');\n",
              "    li.append(span(file.name, {fontWeight: 'bold'}));\n",
              "    li.append(span(\n",
              "        `(${file.type || 'n/a'}) - ${file.size} bytes, ` +\n",
              "        `last modified: ${\n",
              "            file.lastModifiedDate ? file.lastModifiedDate.toLocaleDateString() :\n",
              "                                    'n/a'} - `));\n",
              "    const percent = span('0% done');\n",
              "    li.appendChild(percent);\n",
              "\n",
              "    outputElement.appendChild(li);\n",
              "\n",
              "    const fileDataPromise = new Promise((resolve) => {\n",
              "      const reader = new FileReader();\n",
              "      reader.onload = (e) => {\n",
              "        resolve(e.target.result);\n",
              "      };\n",
              "      reader.readAsArrayBuffer(file);\n",
              "    });\n",
              "    // Wait for the data to be ready.\n",
              "    let fileData = yield {\n",
              "      promise: fileDataPromise,\n",
              "      response: {\n",
              "        action: 'continue',\n",
              "      }\n",
              "    };\n",
              "\n",
              "    // Use a chunked sending to avoid message size limits. See b/62115660.\n",
              "    let position = 0;\n",
              "    do {\n",
              "      const length = Math.min(fileData.byteLength - position, MAX_PAYLOAD_SIZE);\n",
              "      const chunk = new Uint8Array(fileData, position, length);\n",
              "      position += length;\n",
              "\n",
              "      const base64 = btoa(String.fromCharCode.apply(null, chunk));\n",
              "      yield {\n",
              "        response: {\n",
              "          action: 'append',\n",
              "          file: file.name,\n",
              "          data: base64,\n",
              "        },\n",
              "      };\n",
              "\n",
              "      let percentDone = fileData.byteLength === 0 ?\n",
              "          100 :\n",
              "          Math.round((position / fileData.byteLength) * 100);\n",
              "      percent.textContent = `${percentDone}% done`;\n",
              "\n",
              "    } while (position < fileData.byteLength);\n",
              "  }\n",
              "\n",
              "  // All done.\n",
              "  yield {\n",
              "    response: {\n",
              "      action: 'complete',\n",
              "    }\n",
              "  };\n",
              "}\n",
              "\n",
              "scope.google = scope.google || {};\n",
              "scope.google.colab = scope.google.colab || {};\n",
              "scope.google.colab._files = {\n",
              "  _uploadFiles,\n",
              "  _uploadFilesContinue,\n",
              "};\n",
              "})(self);\n",
              "</script> "
            ]
          },
          "metadata": {}
        },
        {
          "output_type": "stream",
          "name": "stdout",
          "text": [
            "Saving kaggle.json to kaggle.json\n",
            "kaggle.json\n",
            "Downloading animal10.zip to /content\n",
            "100% 585M/585M [00:03<00:00, 195MB/s]\n",
            "100% 585M/585M [00:03<00:00, 181MB/s]\n",
            "Animals-10\n"
          ]
        }
      ],
      "source": [
        "#install data dari kaggle\n",
        "!pip install -q kaggle\n",
        "from google.colab import files\n",
        "files.upload()\n",
        "\n",
        "!mkdir -p ~/.kaggle\n",
        "!cp kaggle.json ~/.kaggle/\n",
        "!chmod 600 ~/.kaggle/kaggle.json\n",
        "!ls ~/.kaggle\n",
        "\n",
        "#download dataset\n",
        "!kaggle datasets download -d viratkothari/animal10\n",
        "\n",
        "!mkdir animals\n",
        "!unzip -qq animal10.zip -d animals\n",
        "!ls animals"
      ]
    },
    {
      "cell_type": "code",
      "source": [
        "import shutil\n",
        "import os\n",
        "import tensorflow as tf\n",
        "import numpy as np\n",
        "import matplotlib.pyplot as plt\n",
        "from PIL import Image\n",
        "from tensorflow.keras.preprocessing.image import ImageDataGenerator"
      ],
      "metadata": {
        "id": "7pZwp95hfBeM"
      },
      "execution_count": 2,
      "outputs": []
    },
    {
      "cell_type": "code",
      "source": [
        "print(os.listdir(\"../content\"))\n",
        "dataDirectory= \"../content/animals/Animals-10\"\n",
        "print(os.listdir(dataDirectory))"
      ],
      "metadata": {
        "colab": {
          "base_uri": "https://localhost:8080/"
        },
        "id": "vPZYJbe-fN9T",
        "outputId": "0d53f044-aa7c-4393-cb69-45b5c9d483d1"
      },
      "execution_count": 3,
      "outputs": [
        {
          "output_type": "stream",
          "name": "stdout",
          "text": [
            "['.config', 'animal10.zip', 'animals', 'kaggle.json', 'sample_data']\n",
            "['butterfly', 'spider', 'dog', 'sheep', 'cow', 'elephant', 'horse', 'squirrel', 'cat', 'chicken']\n"
          ]
        }
      ]
    },
    {
      "cell_type": "code",
      "source": [
        "ignore_animals = ['squirrel', 'sheep', 'cat', 'cow', 'dog', 'elephant', 'horse']\n",
        "\n",
        "animals = os.path.join('/content/animals/Animals-10')\n",
        "for x in ignore_animals:\n",
        "  path = os.path.join(animals, x)\n",
        "  shutil.rmtree(path)"
      ],
      "metadata": {
        "id": "AeDdg56_fQea"
      },
      "execution_count": 4,
      "outputs": []
    },
    {
      "cell_type": "code",
      "source": [
        "total = 0\n",
        "list_animals = os.listdir(animals)\n",
        "\n",
        "for x in list_animals:\n",
        "  dir = os.path.join(animals, x)\n",
        "  y = len(os.listdir(dir))\n",
        "  print(x+':', y)\n",
        "  total = total + y\n",
        "\n",
        "  img_name = os.listdir(dir)\n",
        "  for z in range(4):\n",
        "    img_path = os.path.join(dir, img_name[z])\n",
        "    img = Image.open(img_path)\n",
        "    print('-',img.size)\n",
        "  print('---------------')\n",
        "\n",
        "print('\\nTotal Gambar :', total)"
      ],
      "metadata": {
        "colab": {
          "base_uri": "https://localhost:8080/"
        },
        "id": "8n117ZhUfXWM",
        "outputId": "edd0d51f-b4e3-4db2-9786-e7671c69ad94"
      },
      "execution_count": 5,
      "outputs": [
        {
          "output_type": "stream",
          "name": "stdout",
          "text": [
            "butterfly: 2112\n",
            "- (295, 211)\n",
            "- (640, 426)\n",
            "- (300, 224)\n",
            "- (300, 300)\n",
            "---------------\n",
            "spider: 4821\n",
            "- (300, 236)\n",
            "- (258, 300)\n",
            "- (640, 426)\n",
            "- (300, 291)\n",
            "---------------\n",
            "chicken: 3098\n",
            "- (248, 251)\n",
            "- (300, 300)\n",
            "- (300, 267)\n",
            "- (300, 201)\n",
            "---------------\n",
            "\n",
            "Total Gambar : 10031\n"
          ]
        }
      ]
    },
    {
      "cell_type": "code",
      "source": [
        "train_datagen = ImageDataGenerator(\n",
        "    rotation_range=40,\n",
        "    width_shift_range=0.2,\n",
        "    height_shift_range=0.2,\n",
        "    rescale=1/255,\n",
        "    shear_range=0.2,\n",
        "    zoom_range=0.2,\n",
        "    horizontal_flip=True,\n",
        "    fill_mode='nearest',\n",
        "    validation_split=0.2\n",
        ")"
      ],
      "metadata": {
        "id": "jdXXnMQif5fa"
      },
      "execution_count": 6,
      "outputs": []
    },
    {
      "cell_type": "code",
      "source": [
        "batch_size = 40\n",
        "\n",
        "data_train = train_datagen.flow_from_directory(\n",
        "    animals,\n",
        "    target_size=(150, 150),\n",
        "    batch_size=batch_size,\n",
        "    class_mode='categorical',\n",
        "    subset='training')\n",
        "\n",
        "data_val = train_datagen.flow_from_directory(\n",
        "    animals,\n",
        "    target_size=(150, 150),\n",
        "    batch_size=batch_size,\n",
        "    class_mode='categorical',\n",
        "    subset='validation')"
      ],
      "metadata": {
        "colab": {
          "base_uri": "https://localhost:8080/"
        },
        "id": "qpgf5Vn5f7dL",
        "outputId": "33926077-4e33-43ae-94f7-8d1798f25aaf"
      },
      "execution_count": 7,
      "outputs": [
        {
          "output_type": "stream",
          "name": "stdout",
          "text": [
            "Found 8026 images belonging to 3 classes.\n",
            "Found 2005 images belonging to 3 classes.\n"
          ]
        }
      ]
    },
    {
      "cell_type": "code",
      "source": [
        "tf.device('/device:GPU:0')\n",
        "\n",
        "model = tf.keras.models.Sequential([\n",
        "    tf.keras.layers.Conv2D(64, (3,3), activation='relu', input_shape=(150, 150, 3)),\n",
        "    tf.keras.layers.MaxPooling2D(2, 2),\n",
        "    tf.keras.layers.Conv2D(64, (3,3), activation='relu'),\n",
        "    tf.keras.layers.MaxPooling2D(2,2),\n",
        "    tf.keras.layers.Conv2D(128, (3,3), activation='relu'),\n",
        "    tf.keras.layers.MaxPooling2D(2,2),\n",
        "    tf.keras.layers.Conv2D(128, (3,3), activation='relu'),\n",
        "    tf.keras.layers.MaxPooling2D(2,2),\n",
        "    tf.keras.layers.Flatten(),\n",
        "    tf.keras.layers.Dropout(0.5),\n",
        "    tf.keras.layers.Dense(512, activation='relu'),\n",
        "    tf.keras.layers.Dense(3, activation='softmax')\n",
        "])\n",
        "\n",
        "model.compile(optimizer='adam',\n",
        "              loss='categorical_crossentropy',\n",
        "              metrics = ['accuracy'])\n",
        "\n",
        "model.summary()"
      ],
      "metadata": {
        "colab": {
          "base_uri": "https://localhost:8080/"
        },
        "id": "BkdMkPJdf-Uz",
        "outputId": "76c3d005-9807-43c6-d7cf-b955c8d36722"
      },
      "execution_count": 8,
      "outputs": [
        {
          "output_type": "stream",
          "name": "stdout",
          "text": [
            "Model: \"sequential\"\n",
            "_________________________________________________________________\n",
            " Layer (type)                Output Shape              Param #   \n",
            "=================================================================\n",
            " conv2d (Conv2D)             (None, 148, 148, 64)      1792      \n",
            "                                                                 \n",
            " max_pooling2d (MaxPooling2  (None, 74, 74, 64)        0         \n",
            " D)                                                              \n",
            "                                                                 \n",
            " conv2d_1 (Conv2D)           (None, 72, 72, 64)        36928     \n",
            "                                                                 \n",
            " max_pooling2d_1 (MaxPoolin  (None, 36, 36, 64)        0         \n",
            " g2D)                                                            \n",
            "                                                                 \n",
            " conv2d_2 (Conv2D)           (None, 34, 34, 128)       73856     \n",
            "                                                                 \n",
            " max_pooling2d_2 (MaxPoolin  (None, 17, 17, 128)       0         \n",
            " g2D)                                                            \n",
            "                                                                 \n",
            " conv2d_3 (Conv2D)           (None, 15, 15, 128)       147584    \n",
            "                                                                 \n",
            " max_pooling2d_3 (MaxPoolin  (None, 7, 7, 128)         0         \n",
            " g2D)                                                            \n",
            "                                                                 \n",
            " flatten (Flatten)           (None, 6272)              0         \n",
            "                                                                 \n",
            " dropout (Dropout)           (None, 6272)              0         \n",
            "                                                                 \n",
            " dense (Dense)               (None, 512)               3211776   \n",
            "                                                                 \n",
            " dense_1 (Dense)             (None, 3)                 1539      \n",
            "                                                                 \n",
            "=================================================================\n",
            "Total params: 3473475 (13.25 MB)\n",
            "Trainable params: 3473475 (13.25 MB)\n",
            "Non-trainable params: 0 (0.00 Byte)\n",
            "_________________________________________________________________\n"
          ]
        }
      ]
    },
    {
      "cell_type": "code",
      "source": [
        "class myCallback(tf.keras.callbacks.Callback):\n",
        "  def on_epoch_end(self, epoch, logs={}):\n",
        "    if(logs.get('accuracy')>0.85 and logs.get('val_accuracy')>0.85):\n",
        "      print(\"\\nAkurasi terlampaui!\")\n",
        "      self.model.stop_training = True\n",
        "\n",
        "callbacks = myCallback()"
      ],
      "metadata": {
        "id": "C9yLEftjgAPi"
      },
      "execution_count": 9,
      "outputs": []
    },
    {
      "cell_type": "code",
      "source": [
        "history = model.fit(data_train,\n",
        "                    epochs = 40,\n",
        "                    steps_per_epoch = 40,\n",
        "                    validation_data = data_val,\n",
        "                    validation_steps = 40,\n",
        "                    verbose = 1,\n",
        "                    callbacks = [callbacks])"
      ],
      "metadata": {
        "colab": {
          "base_uri": "https://localhost:8080/"
        },
        "id": "htnfTSMxgCDD",
        "outputId": "4e51c8de-662d-4bc5-b661-9938a3ff060d"
      },
      "execution_count": 10,
      "outputs": [
        {
          "output_type": "stream",
          "name": "stdout",
          "text": [
            "Epoch 1/40\n",
            "40/40 [==============================] - 34s 532ms/step - loss: 1.0454 - accuracy: 0.4869 - val_loss: 0.9688 - val_accuracy: 0.5219\n",
            "Epoch 2/40\n",
            "40/40 [==============================] - 21s 536ms/step - loss: 0.9446 - accuracy: 0.5246 - val_loss: 0.8721 - val_accuracy: 0.5913\n",
            "Epoch 3/40\n",
            "40/40 [==============================] - 20s 501ms/step - loss: 0.8517 - accuracy: 0.6040 - val_loss: 0.8503 - val_accuracy: 0.6050\n",
            "Epoch 4/40\n",
            "40/40 [==============================] - 22s 563ms/step - loss: 0.8137 - accuracy: 0.6513 - val_loss: 0.8004 - val_accuracy: 0.6475\n",
            "Epoch 5/40\n",
            "40/40 [==============================] - 21s 528ms/step - loss: 0.7563 - accuracy: 0.6869 - val_loss: 0.7261 - val_accuracy: 0.7056\n",
            "Epoch 6/40\n",
            "40/40 [==============================] - 20s 499ms/step - loss: 0.6674 - accuracy: 0.7276 - val_loss: 0.6641 - val_accuracy: 0.7525\n",
            "Epoch 7/40\n",
            "40/40 [==============================] - 20s 517ms/step - loss: 0.6208 - accuracy: 0.7556 - val_loss: 0.6275 - val_accuracy: 0.7544\n",
            "Epoch 8/40\n",
            "40/40 [==============================] - 21s 521ms/step - loss: 0.6248 - accuracy: 0.7494 - val_loss: 0.7060 - val_accuracy: 0.7212\n",
            "Epoch 9/40\n",
            "40/40 [==============================] - 21s 540ms/step - loss: 0.6175 - accuracy: 0.7531 - val_loss: 0.5615 - val_accuracy: 0.7844\n",
            "Epoch 10/40\n",
            "40/40 [==============================] - 31s 779ms/step - loss: 0.5351 - accuracy: 0.7925 - val_loss: 0.5629 - val_accuracy: 0.7844\n",
            "Epoch 11/40\n",
            "40/40 [==============================] - 20s 518ms/step - loss: 0.5642 - accuracy: 0.7825 - val_loss: 0.5265 - val_accuracy: 0.7931\n",
            "Epoch 12/40\n",
            "40/40 [==============================] - 20s 503ms/step - loss: 0.5657 - accuracy: 0.7900 - val_loss: 0.5675 - val_accuracy: 0.7788\n",
            "Epoch 13/40\n",
            "40/40 [==============================] - 20s 516ms/step - loss: 0.5320 - accuracy: 0.8008 - val_loss: 0.5284 - val_accuracy: 0.8056\n",
            "Epoch 14/40\n",
            "40/40 [==============================] - 21s 523ms/step - loss: 0.4829 - accuracy: 0.8194 - val_loss: 0.5748 - val_accuracy: 0.7844\n",
            "Epoch 15/40\n",
            "40/40 [==============================] - 20s 495ms/step - loss: 0.5108 - accuracy: 0.8000 - val_loss: 0.5119 - val_accuracy: 0.7994\n",
            "Epoch 16/40\n",
            "40/40 [==============================] - 20s 497ms/step - loss: 0.4966 - accuracy: 0.8119 - val_loss: 0.5367 - val_accuracy: 0.7887\n",
            "Epoch 17/40\n",
            "40/40 [==============================] - 21s 522ms/step - loss: 0.4910 - accuracy: 0.8256 - val_loss: 0.5103 - val_accuracy: 0.8025\n",
            "Epoch 18/40\n",
            "40/40 [==============================] - 22s 546ms/step - loss: 0.5019 - accuracy: 0.7975 - val_loss: 0.5089 - val_accuracy: 0.7994\n",
            "Epoch 19/40\n",
            "40/40 [==============================] - 20s 513ms/step - loss: 0.4669 - accuracy: 0.8140 - val_loss: 0.5067 - val_accuracy: 0.8019\n",
            "Epoch 20/40\n",
            "40/40 [==============================] - 20s 516ms/step - loss: 0.4987 - accuracy: 0.8069 - val_loss: 0.5483 - val_accuracy: 0.7819\n",
            "Epoch 21/40\n",
            "40/40 [==============================] - 20s 517ms/step - loss: 0.4465 - accuracy: 0.8300 - val_loss: 0.5226 - val_accuracy: 0.8175\n",
            "Epoch 22/40\n",
            "40/40 [==============================] - 20s 500ms/step - loss: 0.4293 - accuracy: 0.8300 - val_loss: 0.5087 - val_accuracy: 0.7969\n",
            "Epoch 23/40\n",
            "40/40 [==============================] - 20s 516ms/step - loss: 0.4774 - accuracy: 0.8200 - val_loss: 0.4754 - val_accuracy: 0.8200\n",
            "Epoch 24/40\n",
            "40/40 [==============================] - 20s 515ms/step - loss: 0.4623 - accuracy: 0.8250 - val_loss: 0.4873 - val_accuracy: 0.8156\n",
            "Epoch 25/40\n",
            "40/40 [==============================] - 20s 501ms/step - loss: 0.4737 - accuracy: 0.8263 - val_loss: 0.4801 - val_accuracy: 0.8225\n",
            "Epoch 26/40\n",
            "40/40 [==============================] - 21s 518ms/step - loss: 0.4326 - accuracy: 0.8319 - val_loss: 0.4755 - val_accuracy: 0.8250\n",
            "Epoch 27/40\n",
            "40/40 [==============================] - 31s 783ms/step - loss: 0.4321 - accuracy: 0.8388 - val_loss: 0.4502 - val_accuracy: 0.8300\n",
            "Epoch 28/40\n",
            "40/40 [==============================] - 21s 521ms/step - loss: 0.4051 - accuracy: 0.8425 - val_loss: 0.5222 - val_accuracy: 0.8156\n",
            "Epoch 29/40\n",
            "40/40 [==============================] - 20s 510ms/step - loss: 0.4250 - accuracy: 0.8331 - val_loss: 0.5126 - val_accuracy: 0.8081\n",
            "Epoch 30/40\n",
            "40/40 [==============================] - 21s 523ms/step - loss: 0.4216 - accuracy: 0.8430 - val_loss: 0.4414 - val_accuracy: 0.8400\n",
            "Epoch 31/40\n",
            "40/40 [==============================] - 20s 516ms/step - loss: 0.4204 - accuracy: 0.8344 - val_loss: 0.4492 - val_accuracy: 0.8350\n",
            "Epoch 32/40\n",
            "40/40 [==============================] - 20s 501ms/step - loss: 0.4531 - accuracy: 0.8269 - val_loss: 0.4693 - val_accuracy: 0.8188\n",
            "Epoch 33/40\n",
            "40/40 [==============================] - 20s 516ms/step - loss: 0.4213 - accuracy: 0.8373 - val_loss: 0.4256 - val_accuracy: 0.8350\n",
            "Epoch 34/40\n",
            "40/40 [==============================] - 20s 517ms/step - loss: 0.4014 - accuracy: 0.8431 - val_loss: 0.5044 - val_accuracy: 0.8069\n",
            "Epoch 35/40\n",
            "40/40 [==============================] - 20s 505ms/step - loss: 0.4143 - accuracy: 0.8512 - val_loss: 0.4356 - val_accuracy: 0.8363\n",
            "Epoch 36/40\n",
            "40/40 [==============================] - 31s 781ms/step - loss: 0.4218 - accuracy: 0.8300 - val_loss: 0.4386 - val_accuracy: 0.8381\n",
            "Epoch 37/40\n",
            "40/40 [==============================] - 21s 518ms/step - loss: 0.4132 - accuracy: 0.8344 - val_loss: 0.4489 - val_accuracy: 0.8263\n",
            "Epoch 38/40\n",
            "40/40 [==============================] - 30s 767ms/step - loss: 0.3826 - accuracy: 0.8556 - val_loss: 0.4461 - val_accuracy: 0.8381\n",
            "Epoch 39/40\n",
            "40/40 [==============================] - 21s 531ms/step - loss: 0.3718 - accuracy: 0.8588 - val_loss: 0.4377 - val_accuracy: 0.8394\n",
            "Epoch 40/40\n",
            "40/40 [==============================] - 21s 522ms/step - loss: 0.4145 - accuracy: 0.8406 - val_loss: 0.4354 - val_accuracy: 0.8481\n"
          ]
        }
      ]
    },
    {
      "cell_type": "code",
      "source": [
        "plt.plot(history.history['accuracy'])\n",
        "plt.plot(history.history['val_accuracy'])\n",
        "plt.title('Model accuracy')\n",
        "plt.ylabel('Accuracy')\n",
        "plt.xlabel('Epoch')\n",
        "plt.legend(['Train', 'Test'], loc='upper left')\n",
        "plt.show()"
      ],
      "metadata": {
        "colab": {
          "base_uri": "https://localhost:8080/",
          "height": 472
        },
        "id": "GYv7sN5SgEKK",
        "outputId": "f9de7d2e-4af3-4f3b-e4db-9d9395d0dc5a"
      },
      "execution_count": 11,
      "outputs": [
        {
          "output_type": "display_data",
          "data": {
            "text/plain": [
              "<Figure size 640x480 with 1 Axes>"
            ],
            "image/png": "[encoded data removed]"
          },
          "metadata": {}
        }
      ]
    },
    {
      "cell_type": "code",
      "source": [
        "plt.plot(history.history['loss'])\n",
        "plt.plot(history.history['val_loss'])\n",
        "plt.title('Model loss')\n",
        "plt.ylabel('Loss')\n",
        "plt.xlabel('Epoch')\n",
        "plt.legend(['Train', 'Test'], loc='upper left')\n",
        "plt.show()"
      ],
      "metadata": {
        "colab": {
          "base_uri": "https://localhost:8080/",
          "height": 472
        },
        "id": "pOT71kW4gGGy",
        "outputId": "f8adaf7c-60d1-4ada-ffa0-69c32e4ae096"
      },
      "execution_count": 12,
      "outputs": [
        {
          "output_type": "display_data",
          "data": {
            "text/plain": [
              "<Figure size 640x480 with 1 Axes>"
            ],
            "image/png": "[encoded data removed]"
          },
          "metadata": {}
        }
      ]
    },
    {
      "cell_type": "code",
      "source": [
        "import pathlib\n",
        "export_dir = '/content/'\n",
        "tf.saved_model.save(model, export_dir)\n",
        "converter = tf.lite.TFLiteConverter.from_saved_model(export_dir)\n",
        "\n",
        "converter.optimizations = [tf.lite.Optimize.DEFAULT]\n",
        "\n",
        "tflite_model = converter.convert()\n",
        "\n",
        "tflite_model_file = pathlib.Path('./model.tflite')\n",
        "tflite_model_file.write_bytes(tflite_model)\n",
        "\n",
        "tf.saved_model.save(model, '/content/')"
      ],
      "metadata": {
        "id": "Fdt9Dtc7gHz2"
      },
      "execution_count": 13,
      "outputs": []
    }
  ]
}